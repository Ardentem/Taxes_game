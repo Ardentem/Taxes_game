{
 "cells": [
  {
   "cell_type": "code",
   "execution_count": 1,
   "metadata": {},
   "outputs": [
    {
     "name": "stdout",
     "output_type": "stream",
     "text": [
      "服务器响应需要时间，请静等几秒\n",
      "欢迎打开德州扑克游戏，服务器已成功连接，当前游戏仍处于测试阶段，存在大量bug或服务器不稳定问题，请谅解\n",
      "游戏当前版本为0.1.4，最后更新时间为2023-07-09-14:25\n",
      "版本更新记录：\n",
      "    0.1.3: 优化了不同账号间的多线程操作文件，修改了AI的底牌加注逻辑\n",
      "    0.1.4: 增加了账号登陆判定，现在一个账号不能同时开两局游戏，同时强制退出也能被识别\n",
      "    0.1.5: 现在一局结束后直接开始第二局不会被判断为重复登录\n",
      "    0.1.6: 修改了玩家提前fold时的强制结算逻辑，修正了显示错误\n",
      "\u001b[0;31;m重要提醒：\n",
      "1.由于服务器承载问题，每次返回结果需要一定的时间，请不要快速连续点击回车，务必等待系统提示您输入要发送的信息时再单击回车进入下一步，否则可能会导致服务器通讯断开\n",
      "2.线上多人联机模式仍在开发中，当前版本稳定性较差，因此不予开放\u001b[0m\n",
      "\u001b[0;32;m游戏已启动，请输入用户名\u001b[0m\n",
      "用户存在，请输入密码\n",
      "密码正确，输入1查看余额，输入2回去登录\n",
      "当前余额为：99938,输入1开始单人游戏，输入其他自动退出\n",
      "你的位置是1，1号位为小盲自动下注10，2号位为大盲自动下注20，按回车继续\n",
      "当前轮到3号位玩家，选择跟注，场上最高下注为20，回车继续\n"
     ]
    }
   ],
   "source": [
    "import socket\n",
    "import time\n",
    "# 服务端为TCP方式，客户端也采用TCP方式，默认参数即为TCP\n",
    "client = socket.socket()\n",
    "# 访问服务器的IP和端口\n",
    "ip_port= ('47.113.200.47', 8080)\n",
    "# 连接主机\n",
    "client.connect(ip_port)\n",
    "print('服务器响应需要时间，请静等几秒')\n",
    "# 定义发送循环信息\n",
    "while True:\n",
    "    # 接收主机信息 每次接收缓冲区1024个字节\n",
    "    data = client.recv(4096)\n",
    "    # 打印接收数据\n",
    "    print(data.decode())\n",
    "    msg_input = input(\"请输入发送的消息：\")\n",
    "    if msg_input == '':\n",
    "        msg_input = 'enter'\n",
    "    client.send(msg_input.encode())\n",
    "    if msg_input =='mustexit':\n",
    "        break\n",
    "    time.sleep(1)"
   ]
  },
  {
   "cell_type": "code",
   "execution_count": null,
   "metadata": {},
   "outputs": [],
   "source": []
  }
 ],
 "metadata": {
  "kernelspec": {
   "display_name": "base",
   "language": "python",
   "name": "python3"
  },
  "language_info": {
   "codemirror_mode": {
    "name": "ipython",
    "version": 3
   },
   "file_extension": ".py",
   "mimetype": "text/x-python",
   "name": "python",
   "nbconvert_exporter": "python",
   "pygments_lexer": "ipython3",
   "version": "3.9.12"
  },
  "orig_nbformat": 4
 },
 "nbformat": 4,
 "nbformat_minor": 2
}
